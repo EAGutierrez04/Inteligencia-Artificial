{
 "cells": [
  {
   "cell_type": "code",
   "execution_count": 1,
   "id": "0058fdb5-094c-4651-9d31-a05a60af374a",
   "metadata": {},
   "outputs": [],
   "source": [
    "import numpy as np\n",
    "from tensorflow.keras.models import Sequential\n",
    "from tensorflow.keras.layers import SimpleRNN, Dense, Embedding\n",
    "from tensorflow.keras.utils import to_categorical"
   ]
  },
  {
   "cell_type": "code",
   "execution_count": 2,
   "id": "3cfc25bb-5522-434e-9a51-1ffb94509a29",
   "metadata": {},
   "outputs": [],
   "source": [
    "# Texto base\n",
    "texto = \"Las redes neuronales recurrentes son muy utiles para procesar secuencias\""
   ]
  },
  {
   "cell_type": "code",
   "execution_count": 3,
   "id": "f926cfd4-545c-4142-b364-0be7f33dfe47",
   "metadata": {},
   "outputs": [],
   "source": [
    "# Crear un diccionario de caracteres a enteros\n",
    "caracteres = sorted(list(set(texto)))\n",
    "char_to_int = {c: i for i, c in enumerate(caracteres)}\n",
    "int_to_char = {i: c for c, i in char_to_int.items()}\n"
   ]
  },
  {
   "cell_type": "code",
   "execution_count": 4,
   "id": "2c939849-6e19-4960-84ef-0f49f5347e9f",
   "metadata": {},
   "outputs": [],
   "source": [
    "seq_length = 3\n",
    "x = []\n",
    "y= []"
   ]
  },
  {
   "cell_type": "code",
   "execution_count": 5,
   "id": "649d5d72-68f4-4614-9351-aaf78b657c4a",
   "metadata": {},
   "outputs": [],
   "source": [
    "for i in range(len(texto)- seq_length):\n",
    "    seq_in = texto[i: i + seq_length]\n",
    "    seq_out = texto[i + seq_length]\n",
    "    x.append([char_to_int[char] for char in seq_in])\n",
    "    y.append(char_to_int[seq_out])"
   ]
  },
  {
   "cell_type": "code",
   "execution_count": 6,
   "id": "acdcd7ba-7eda-4d8f-8ad9-cd04178bf064",
   "metadata": {},
   "outputs": [],
   "source": [
    "# Convertir a arreglo de numpy\n",
    "x = np.array(x)\n",
    "y = to_categorical(y, num_classes=len(caracteres))"
   ]
  },
  {
   "cell_type": "code",
   "execution_count": 7,
   "id": "321e1384-6f69-4454-acb7-6115280b86d3",
   "metadata": {},
   "outputs": [],
   "source": [
    "# Redimensionar para RNN: muestras, pasos de tiempo, características\n",
    "x = np.reshape(x, (x.shape[0], x.shape[1], 1))"
   ]
  },
  {
   "cell_type": "code",
   "execution_count": 8,
   "id": "3c3a88fe-95a7-4146-b388-8f8d4cf16ef4",
   "metadata": {},
   "outputs": [],
   "source": [
    "# Crear modelo\n",
    "modelo = Sequential()\n",
    "modelo.add(SimpleRNN(32, input_shape=(x.shape[1],1)))\n",
    "modelo.add(Dense(len(caracteres), activation = \"softmax\"))"
   ]
  },
  {
   "cell_type": "code",
   "execution_count": 9,
   "id": "f5a12b5a-f2ac-426e-8ad9-b829042526bf",
   "metadata": {},
   "outputs": [
    {
     "name": "stdout",
     "output_type": "stream",
     "text": [
      "Model: \"sequential\"\n",
      "_________________________________________________________________\n",
      " Layer (type)                Output Shape              Param #   \n",
      "=================================================================\n",
      " simple_rnn (SimpleRNN)      (None, 32)                1088      \n",
      "                                                                 \n",
      " dense (Dense)               (None, 17)                561       \n",
      "                                                                 \n",
      "=================================================================\n",
      "Total params: 1,649\n",
      "Trainable params: 1,649\n",
      "Non-trainable params: 0\n",
      "_________________________________________________________________\n"
     ]
    }
   ],
   "source": [
    "modelo.compile(loss=\"categorical_crossentropy\", optimizer=\"adam\", metrics=[\"accuracy\"])\n",
    "modelo.summary()"
   ]
  },
  {
   "cell_type": "code",
   "execution_count": 10,
   "id": "9e30be94-f346-4c53-86d4-47edbb5417d6",
   "metadata": {},
   "outputs": [
    {
     "data": {
      "text/plain": [
       "<keras.callbacks.History at 0x1bfad10a350>"
      ]
     },
     "execution_count": 10,
     "metadata": {},
     "output_type": "execute_result"
    }
   ],
   "source": [
    "# Entrenar el modelo\n",
    "modelo.fit(x, y, epochs=200, verbose=0)"
   ]
  },
  {
   "cell_type": "code",
   "execution_count": 11,
   "id": "383b60b7-ba03-44da-9b11-0691c0b99474",
   "metadata": {},
   "outputs": [],
   "source": [
    "#Probar secuencia\n",
    "secuencia = \" re\"\n",
    "entrada = np.array([[char_to_int[c] for c in secuencia]])\n",
    "entrada = np.reshape(entrada, (1, seq_length,1))"
   ]
  },
  {
   "cell_type": "code",
   "execution_count": 12,
   "id": "84a10fa9-c891-4f5f-803e-9c058672f6c9",
   "metadata": {},
   "outputs": [
    {
     "name": "stdout",
     "output_type": "stream",
     "text": [
      "Siguiente letra despues de  re : c\n"
     ]
    }
   ],
   "source": [
    "prediccion = modelo.predict(entrada, verbose=0)\n",
    "indice = np.argmax(prediccion)\n",
    "print(f\"Siguiente letra despues de {secuencia} : {int_to_char[indice]}\")"
   ]
  },
  {
   "cell_type": "code",
   "execution_count": null,
   "id": "ac7b697d-82e0-4f3f-9862-1c1ff1e5dc33",
   "metadata": {},
   "outputs": [],
   "source": []
  }
 ],
 "metadata": {
  "kernelspec": {
   "display_name": "Python 3 (ipykernel)",
   "language": "python",
   "name": "python3"
  },
  "language_info": {
   "codemirror_mode": {
    "name": "ipython",
    "version": 3
   },
   "file_extension": ".py",
   "mimetype": "text/x-python",
   "name": "python",
   "nbconvert_exporter": "python",
   "pygments_lexer": "ipython3",
   "version": "3.10.6"
  }
 },
 "nbformat": 4,
 "nbformat_minor": 5
}
