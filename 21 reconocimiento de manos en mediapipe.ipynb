{
 "cells": [
  {
   "cell_type": "code",
   "execution_count": 1,
   "id": "7e05ec4b-fff2-496f-b349-669c9cbef71c",
   "metadata": {},
   "outputs": [],
   "source": [
    "import cv2\n",
    "import mediapipe as mp\n",
    "import math"
   ]
  },
  {
   "cell_type": "code",
   "execution_count": 2,
   "id": "cd99982c-b43d-457c-a825-099f20ed1782",
   "metadata": {},
   "outputs": [],
   "source": [
    "mp_drawing = mp.solutions.drawing_utils\n",
    "mp_hands = mp.solutions.hands"
   ]
  },
  {
   "cell_type": "code",
   "execution_count": 3,
   "id": "050c15ab-60aa-4c90-9686-092ccb69ce73",
   "metadata": {},
   "outputs": [],
   "source": [
    "def distancia(p1, p2):\n",
    "    return math.sqrt((p2.x - p1-x)**2 + (p2.y - p1.y)**2)"
   ]
  },
  {
   "cell_type": "code",
   "execution_count": 17,
   "id": "ed49c054-c95e-4ff0-baf9-cb620696c481",
   "metadata": {},
   "outputs": [],
   "source": [
    "# Función para determinar si el pulgar está levantado, tip: punta del dedo, dip: parte media, mcp: parte inferior\n",
    "def dedo_levantado(landmarks, dedo_tip, dedo_dip, dedo_pip, dedo_mcp, umbral=0.1):\n",
    "    #Compara la posición \"y\" de la punta con respecto a las anteriores\n",
    "    return(landmarks[dedo_tip].y < landmarks[dedo_dip].y and \n",
    "           landmarks[dedo_dip].y < landmarks[dedo_pip].y and \n",
    "           landmarks[dedo_pip].y < landmarks[dedo_mcp].y)"
   ]
  },
  {
   "cell_type": "code",
   "execution_count": 27,
   "id": "988d0424-16ce-47d4-bdf8-ae874b77fceb",
   "metadata": {},
   "outputs": [],
   "source": [
    "ruta = \"mano2.jpg\" "
   ]
  },
  {
   "cell_type": "code",
   "execution_count": 28,
   "id": "44cd1036-3a31-4594-9238-250e318df4b3",
   "metadata": {},
   "outputs": [
    {
     "name": "stdout",
     "output_type": "stream",
     "text": [
      "handedness:  [classification {\n",
      "  index: 1\n",
      "  score: 0.9522156715393066\n",
      "  label: \"Right\"\n",
      "}\n",
      "]\n"
     ]
    }
   ],
   "source": [
    "with mp_hands.Hands(\n",
    "    static_image_mode = True,\n",
    "    max_num_hands=2,\n",
    "    min_detection_confidence = 0.5\n",
    ") as hands:\n",
    "    image = cv2.imread(ruta)\n",
    "    height, width,_ = image.shape\n",
    "    image = cv2.flip(image, 1)\n",
    "    image_rgb = cv2.cvtColor(image, cv2.COLOR_BGR2RGB)\n",
    "    resultados = hands.process(image_rgb)\n",
    "\n",
    "    print(\"handedness: \", resultados.multi_handedness)"
   ]
  },
  {
   "cell_type": "code",
   "execution_count": 31,
   "id": "4414ead4-66f3-4906-9761-8b8d7bf9cd08",
   "metadata": {},
   "outputs": [
    {
     "name": "stdout",
     "output_type": "stream",
     "text": [
      "Dedos levantados:  ['Pulgar', 'Indice', 'Medio', 'Anular', 'Menique']\n"
     ]
    }
   ],
   "source": [
    "if resultados.multi_hand_landmarks:\n",
    "    for hands_landmarks in resultados.multi_hand_landmarks:\n",
    "        #Dibujar las marcas y conexiones\n",
    "        mp_drawing.draw_landmarks(image, hands_landmarks, mp_hands.HAND_CONNECTIONS)\n",
    "\n",
    "        #Obtener las marcas como una lista\n",
    "        landmarks = hands_landmarks.landmark\n",
    "\n",
    "        # Media pipe define los indices de la punta de los dedos según mediapipe\n",
    "        PULGAR_TIP = 4\n",
    "        INDICE_TIP = 8\n",
    "        MEDIO_TIP = 12\n",
    "        ANULAR_TIP = 16\n",
    "        MENIQUE_TIP = 20\n",
    "\n",
    "        # Puntos para cada dedo (tip, dip, pip, mcp)\n",
    "        dedos = {\n",
    "            \"Pulgar\": (PULGAR_TIP, 2, 1, 0),\n",
    "            \"Indice\": (INDICE_TIP, 6, 5, 0),\n",
    "            \"Medio\": (MEDIO_TIP, 10, 9, 0),\n",
    "            \"Anular\": (ANULAR_TIP, 14, 13, 0),\n",
    "            \"Menique\": (MENIQUE_TIP, 18, 17, 0)\n",
    "        }\n",
    "\n",
    "        # Verificar que dedos estan levantados\n",
    "        dedos_levantados = []\n",
    "        for nombre, (tip, dip, pip, mcp) in dedos.items():\n",
    "            if dedo_levantado(landmarks, tip, dip, pip, mcp):\n",
    "                dedos_levantados.append(nombre)\n",
    "\n",
    "        print(\"Dedos levantados: \", dedos_levantados)\n",
    "\n",
    "        #Mostrar los dedos levantados en la imgaen\n",
    "        texto = f\"Dedos:{','.join(dedos_levantados)}\"\n",
    "        cv2.putText(image, texto, (10,30), cv2.FONT_HERSHEY_SIMPLEX, 1,(0,255,0),2)\n",
    "\n",
    "        #Mostrar imagen resultante\n",
    "        cv2.imshow(\"Imagen\", image)\n",
    "        cv2.waitKey(0)\n",
    "        cv2.destroyAllWindows()"
   ]
  },
  {
   "cell_type": "code",
   "execution_count": null,
   "id": "10e505b0-c9a2-468f-b7d1-05b0d500ba3c",
   "metadata": {},
   "outputs": [],
   "source": []
  }
 ],
 "metadata": {
  "kernelspec": {
   "display_name": "Python 3 (ipykernel)",
   "language": "python",
   "name": "python3"
  },
  "language_info": {
   "codemirror_mode": {
    "name": "ipython",
    "version": 3
   },
   "file_extension": ".py",
   "mimetype": "text/x-python",
   "name": "python",
   "nbconvert_exporter": "python",
   "pygments_lexer": "ipython3",
   "version": "3.10.6"
  }
 },
 "nbformat": 4,
 "nbformat_minor": 5
}
