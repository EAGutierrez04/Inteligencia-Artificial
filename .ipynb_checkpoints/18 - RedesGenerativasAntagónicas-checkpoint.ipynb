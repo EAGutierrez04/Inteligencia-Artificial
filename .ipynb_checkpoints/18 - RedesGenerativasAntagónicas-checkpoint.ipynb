{
 "cells": [
  {
   "cell_type": "markdown",
   "id": "9985ce9b-8fd6-4b98-8fdb-183417064f52",
   "metadata": {},
   "source": [
    "## Requisitos: tener instalado tensorflow, matplotlib, y numpy\n"
   ]
  },
  {
   "cell_type": "code",
   "execution_count": 2,
   "id": "87787330-498c-4e1b-86b0-70007e8569b0",
   "metadata": {},
   "outputs": [],
   "source": [
    "import tensorflow as tf\n",
    "from tensorflow.keras.layers import Dense, LeakyReLU, BatchNormalization, Reshape, Flatten\n",
    "from tensorflow.keras.models import Sequential\n",
    "from tensorflow.keras.optimizers import Adam\n",
    "import numpy as np\n",
    "import matplotlib.pyplot as plt"
   ]
  },
  {
   "cell_type": "code",
   "execution_count": 6,
   "id": "b5517944-9b05-4e9d-b694-32fefef727e6",
   "metadata": {},
   "outputs": [],
   "source": [
    "#Cargar el dataset MNIST\n",
    "# El guion bajo se usa para capturar un dato a nivel privado\n",
    "(X_train, _), (_,_) = tf.keras.datasets.mnist.load_data()\n",
    "X_train = X_train/255.0  #Normalizar imagenes entre 0 y 1\n",
    "X_train = X_train.reshape(-1,28,28,1).astype(\"float32\")"
   ]
  },
  {
   "cell_type": "code",
   "execution_count": 7,
   "id": "84b737c9-f384-42c3-9e3d-3f9493f73e58",
   "metadata": {},
   "outputs": [],
   "source": [
    "# Tamaño del espacio latente (ruido de entrada para el generador)\n",
    "latent_dim = 100"
   ]
  },
  {
   "cell_type": "code",
   "execution_count": 10,
   "id": "f320e63a-ddc8-4458-afaf-b5b01275f432",
   "metadata": {},
   "outputs": [],
   "source": [
    "# Crear el generador\n",
    "def build_generador():\n",
    "    model = Sequential([\n",
    "        Dense(256, input_dim=latent_dim),\n",
    "        LeakyReLU(alpha= 0.2),\n",
    "        BatchNormalization(),\n",
    "        Dense(512),\n",
    "        LeakyReLU(alpha = 0.20),\n",
    "        BatchNormalization(),\n",
    "        Dense(1024),\n",
    "        LeakyReLU(alpha = 0.20),\n",
    "        BatchNormalization(),\n",
    "        Dense(28*28*1, activation = \"tanh\"),\n",
    "        Reshape((28,28,1))\n",
    "    ])\n",
    "    return model"
   ]
  },
  {
   "cell_type": "code",
   "execution_count": 11,
   "id": "e1166d73-0ead-4bc2-9728-db31e9a1ac4e",
   "metadata": {},
   "outputs": [],
   "source": [
    "# Crear el discriminador\n",
    "def build_discriminador():\n",
    "    model = Sequential([\n",
    "        Flatten(input_shape = (28,28,1)),\n",
    "        Dense(512),\n",
    "        LeakyReLU(alpha=0.20),\n",
    "        Dense(1,activation = \"sigmoid\") # Clasificacion entre real 1 o falso 0\n",
    "    ])\n",
    "    return model"
   ]
  },
  {
   "cell_type": "code",
   "execution_count": 12,
   "id": "2a0e40ec-e190-4db9-ba61-e953bb091dbd",
   "metadata": {},
   "outputs": [],
   "source": [
    "#Compilar el modelo\n",
    "discriminador = build_discriminador()\n",
    "discriminador.compile(\n",
    "    optimizer = Adam(learning_rate = 0.0002, beta_1 = 0.5),\n",
    "    loss=\"binary_crossentropy\",\n",
    "    metrics = [\"accuracy\"]\n",
    ")"
   ]
  },
  {
   "cell_type": "code",
   "execution_count": 13,
   "id": "cf6cc946-e32a-484c-97d0-d84df941bacf",
   "metadata": {},
   "outputs": [],
   "source": [
    "# Compilar el generador (dentro de la GAN)\n",
    "generador = build_generador()"
   ]
  },
  {
   "cell_type": "code",
   "execution_count": 15,
   "id": "1cdbd0d6-8d4e-47fc-9101-d992c61e8e21",
   "metadata": {},
   "outputs": [],
   "source": [
    "# Congelar el discriminador durante el entrenamiento del generador\n",
    "discriminador.trainable = False\n",
    "# Crear la GAN combinadas para el discriminador y el generador\n",
    "gan_input = tf.keras.Input(shape=(latent_dim,))\n",
    "gan_output = discriminador(generador(gan_input))\n",
    "gan = tf.keras.Model(gan_input, gan_output)"
   ]
  },
  {
   "cell_type": "code",
   "execution_count": 16,
   "id": "51d167fa-44c6-4a49-9726-6a8f03b6c7a4",
   "metadata": {},
   "outputs": [],
   "source": [
    "# Compilar la GAN\n",
    "gan.compile(\n",
    "    optimizer =  Adam(learning_rate = 0.0002, beta_1=0.5),\n",
    "    loss=\"binary_crossentropy\"\n",
    ")\n"
   ]
  },
  {
   "cell_type": "code",
   "execution_count": null,
   "id": "54638ede-3c84-41f1-aad3-7170659ffb44",
   "metadata": {},
   "outputs": [],
   "source": []
  }
 ],
 "metadata": {
  "kernelspec": {
   "display_name": "Python 3 (ipykernel)",
   "language": "python",
   "name": "python3"
  },
  "language_info": {
   "codemirror_mode": {
    "name": "ipython",
    "version": 3
   },
   "file_extension": ".py",
   "mimetype": "text/x-python",
   "name": "python",
   "nbconvert_exporter": "python",
   "pygments_lexer": "ipython3",
   "version": "3.10.6"
  }
 },
 "nbformat": 4,
 "nbformat_minor": 5
}
