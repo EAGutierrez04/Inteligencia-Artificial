{
 "cells": [
  {
   "cell_type": "code",
   "execution_count": 1,
   "id": "3f99e60f-af60-42b5-b5c5-b346f074012c",
   "metadata": {},
   "outputs": [],
   "source": [
    "import cv2\n",
    "import mediapipe as mp"
   ]
  },
  {
   "cell_type": "code",
   "execution_count": 3,
   "id": "1df35b1b-c1d3-4100-96b0-610523724b0b",
   "metadata": {},
   "outputs": [],
   "source": [
    "mp_drawing = mp.solutions.drawing_utils\n",
    "mp_hands = mp.solutions.hands"
   ]
  },
  {
   "cell_type": "code",
   "execution_count": 10,
   "id": "b1dacf6b-28aa-400a-b7ec-80039b078b55",
   "metadata": {},
   "outputs": [],
   "source": [
    "ruta = \"mano.jpg\""
   ]
  },
  {
   "cell_type": "code",
   "execution_count": 13,
   "id": "5cf8bec0-94e5-4c67-9b82-428eb1fb3f05",
   "metadata": {},
   "outputs": [
    {
     "name": "stdout",
     "output_type": "stream",
     "text": [
      "handeness:  [classification {\n",
      "  index: 1\n",
      "  score: 0.9367775321006775\n",
      "  label: \"Right\"\n",
      "}\n",
      "]\n"
     ]
    }
   ],
   "source": [
    "with mp_hands.Hands( static_image_mode=True,\n",
    "                    max_num_hands=1,\n",
    "                    min_detection_confidence=0.5) as hands:\n",
    "    image = cv2.imread(ruta)\n",
    "    height, width,_ = image.shape\n",
    "    image = cv2.flip(image,1)\n",
    "    image_rgb = cv2.cvtColor(image, cv2.COLOR_BGR2RGB)\n",
    "    resultado = hands.process(image_rgb)\n",
    "    print(\"handeness: \", resultado.multi_handedness)"
   ]
  },
  {
   "cell_type": "code",
   "execution_count": null,
   "id": "5479fa97-ef44-48b7-bf7f-91fedc1bd576",
   "metadata": {},
   "outputs": [],
   "source": []
  }
 ],
 "metadata": {
  "kernelspec": {
   "display_name": "Python 3 (ipykernel)",
   "language": "python",
   "name": "python3"
  },
  "language_info": {
   "codemirror_mode": {
    "name": "ipython",
    "version": 3
   },
   "file_extension": ".py",
   "mimetype": "text/x-python",
   "name": "python",
   "nbconvert_exporter": "python",
   "pygments_lexer": "ipython3",
   "version": "3.10.6"
  }
 },
 "nbformat": 4,
 "nbformat_minor": 5
}
